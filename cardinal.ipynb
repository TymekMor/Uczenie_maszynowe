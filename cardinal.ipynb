{
 "cells": [
  {
   "cell_type": "code",
   "execution_count": 1,
   "id": "e2296dac-970e-46b7-b3c1-eff8759069fc",
   "metadata": {},
   "outputs": [],
   "source": [
    "import pandas as pd\n",
    "import arff\n",
    "import matplotlib.pyplot as plt\n",
    "import seaborn as sns\n",
    "import numpy as np"
   ]
  },
  {
   "cell_type": "code",
   "execution_count": 2,
   "id": "126ccc10-024f-4eed-98d5-59771a5461a6",
   "metadata": {},
   "outputs": [],
   "source": [
    "with open('dane.arff', 'r') as f:\n",
    "    data = arff.load(f)\n",
    "attributes = [attr[0] for attr in data['attributes']]\n",
    "data_rows = data['data']\n",
    "df = pd.DataFrame(data_rows, columns=attributes)"
   ]
  },
  {
   "cell_type": "markdown",
   "id": "4ad523b4-3014-4c09-a447-3c261f65006f",
   "metadata": {},
   "source": [
    "VARIABLE DESCRIPTIONS\n",
    "- Pclass Passenger Class (1 = 1st; 2 = 2nd; 3 = 3rd)\n",
    "- survival Survival (0 = No; 1 = Yes)\n",
    "- name Name\n",
    "- sex Sex\n",
    "- age Age\n",
    "- sibsp Number of Siblings/Spouses Aboard\n",
    "- parch Number of Parents/Children Aboard\n",
    "- ticket Ticket Number\n",
    "- fare Passenger Fare (British pound)\n",
    "- cabin Cabin\n",
    "- embarked Port of Embarkation (C = Cherbourg; Q = Queenstown; S = Southampton)\n",
    "- boat Lifeboat\n",
    "- body Body Identification Number\n",
    "- home.dest Home/Destination"
   ]
  },
  {
   "cell_type": "code",
   "execution_count": 3,
   "id": "b80a1f25-d73a-4a43-83ba-2bacf1bf3e09",
   "metadata": {},
   "outputs": [
    {
     "data": {
      "text/html": [
       "<div>\n",
       "<style scoped>\n",
       "    .dataframe tbody tr th:only-of-type {\n",
       "        vertical-align: middle;\n",
       "    }\n",
       "\n",
       "    .dataframe tbody tr th {\n",
       "        vertical-align: top;\n",
       "    }\n",
       "\n",
       "    .dataframe thead th {\n",
       "        text-align: right;\n",
       "    }\n",
       "</style>\n",
       "<table border=\"1\" class=\"dataframe\">\n",
       "  <thead>\n",
       "    <tr style=\"text-align: right;\">\n",
       "      <th></th>\n",
       "      <th>pclass</th>\n",
       "      <th>survived</th>\n",
       "      <th>name</th>\n",
       "      <th>sex</th>\n",
       "      <th>age</th>\n",
       "      <th>sibsp</th>\n",
       "      <th>parch</th>\n",
       "      <th>ticket</th>\n",
       "      <th>fare</th>\n",
       "      <th>cabin</th>\n",
       "      <th>embarked</th>\n",
       "      <th>boat</th>\n",
       "      <th>body</th>\n",
       "      <th>home.dest</th>\n",
       "    </tr>\n",
       "  </thead>\n",
       "  <tbody>\n",
       "    <tr>\n",
       "      <th>0</th>\n",
       "      <td>1.0</td>\n",
       "      <td>1</td>\n",
       "      <td>Allen, Miss. Elisabeth Walton</td>\n",
       "      <td>female</td>\n",
       "      <td>29.0000</td>\n",
       "      <td>0.0</td>\n",
       "      <td>0.0</td>\n",
       "      <td>24160</td>\n",
       "      <td>211.3375</td>\n",
       "      <td>B5</td>\n",
       "      <td>S</td>\n",
       "      <td>2</td>\n",
       "      <td>NaN</td>\n",
       "      <td>St Louis, MO</td>\n",
       "    </tr>\n",
       "    <tr>\n",
       "      <th>1</th>\n",
       "      <td>1.0</td>\n",
       "      <td>1</td>\n",
       "      <td>Allison, Master. Hudson Trevor</td>\n",
       "      <td>male</td>\n",
       "      <td>0.9167</td>\n",
       "      <td>1.0</td>\n",
       "      <td>2.0</td>\n",
       "      <td>113781</td>\n",
       "      <td>151.5500</td>\n",
       "      <td>C22 C26</td>\n",
       "      <td>S</td>\n",
       "      <td>11</td>\n",
       "      <td>NaN</td>\n",
       "      <td>Montreal, PQ / Chesterville, ON</td>\n",
       "    </tr>\n",
       "    <tr>\n",
       "      <th>2</th>\n",
       "      <td>1.0</td>\n",
       "      <td>0</td>\n",
       "      <td>Allison, Miss. Helen Loraine</td>\n",
       "      <td>female</td>\n",
       "      <td>2.0000</td>\n",
       "      <td>1.0</td>\n",
       "      <td>2.0</td>\n",
       "      <td>113781</td>\n",
       "      <td>151.5500</td>\n",
       "      <td>C22 C26</td>\n",
       "      <td>S</td>\n",
       "      <td>None</td>\n",
       "      <td>NaN</td>\n",
       "      <td>Montreal, PQ / Chesterville, ON</td>\n",
       "    </tr>\n",
       "    <tr>\n",
       "      <th>3</th>\n",
       "      <td>1.0</td>\n",
       "      <td>0</td>\n",
       "      <td>Allison, Mr. Hudson Joshua Creighton</td>\n",
       "      <td>male</td>\n",
       "      <td>30.0000</td>\n",
       "      <td>1.0</td>\n",
       "      <td>2.0</td>\n",
       "      <td>113781</td>\n",
       "      <td>151.5500</td>\n",
       "      <td>C22 C26</td>\n",
       "      <td>S</td>\n",
       "      <td>None</td>\n",
       "      <td>135.0</td>\n",
       "      <td>Montreal, PQ / Chesterville, ON</td>\n",
       "    </tr>\n",
       "    <tr>\n",
       "      <th>4</th>\n",
       "      <td>1.0</td>\n",
       "      <td>0</td>\n",
       "      <td>Allison, Mrs. Hudson J C (Bessie Waldo Daniels)</td>\n",
       "      <td>female</td>\n",
       "      <td>25.0000</td>\n",
       "      <td>1.0</td>\n",
       "      <td>2.0</td>\n",
       "      <td>113781</td>\n",
       "      <td>151.5500</td>\n",
       "      <td>C22 C26</td>\n",
       "      <td>S</td>\n",
       "      <td>None</td>\n",
       "      <td>NaN</td>\n",
       "      <td>Montreal, PQ / Chesterville, ON</td>\n",
       "    </tr>\n",
       "    <tr>\n",
       "      <th>5</th>\n",
       "      <td>1.0</td>\n",
       "      <td>1</td>\n",
       "      <td>Anderson, Mr. Harry</td>\n",
       "      <td>male</td>\n",
       "      <td>48.0000</td>\n",
       "      <td>0.0</td>\n",
       "      <td>0.0</td>\n",
       "      <td>19952</td>\n",
       "      <td>26.5500</td>\n",
       "      <td>E12</td>\n",
       "      <td>S</td>\n",
       "      <td>3</td>\n",
       "      <td>NaN</td>\n",
       "      <td>New York, NY</td>\n",
       "    </tr>\n",
       "    <tr>\n",
       "      <th>6</th>\n",
       "      <td>1.0</td>\n",
       "      <td>1</td>\n",
       "      <td>Andrews, Miss. Kornelia Theodosia</td>\n",
       "      <td>female</td>\n",
       "      <td>63.0000</td>\n",
       "      <td>1.0</td>\n",
       "      <td>0.0</td>\n",
       "      <td>13502</td>\n",
       "      <td>77.9583</td>\n",
       "      <td>D7</td>\n",
       "      <td>S</td>\n",
       "      <td>10</td>\n",
       "      <td>NaN</td>\n",
       "      <td>Hudson, NY</td>\n",
       "    </tr>\n",
       "    <tr>\n",
       "      <th>7</th>\n",
       "      <td>1.0</td>\n",
       "      <td>0</td>\n",
       "      <td>Andrews, Mr. Thomas Jr</td>\n",
       "      <td>male</td>\n",
       "      <td>39.0000</td>\n",
       "      <td>0.0</td>\n",
       "      <td>0.0</td>\n",
       "      <td>112050</td>\n",
       "      <td>0.0000</td>\n",
       "      <td>A36</td>\n",
       "      <td>S</td>\n",
       "      <td>None</td>\n",
       "      <td>NaN</td>\n",
       "      <td>Belfast, NI</td>\n",
       "    </tr>\n",
       "    <tr>\n",
       "      <th>8</th>\n",
       "      <td>1.0</td>\n",
       "      <td>1</td>\n",
       "      <td>Appleton, Mrs. Edward Dale (Charlotte Lamson)</td>\n",
       "      <td>female</td>\n",
       "      <td>53.0000</td>\n",
       "      <td>2.0</td>\n",
       "      <td>0.0</td>\n",
       "      <td>11769</td>\n",
       "      <td>51.4792</td>\n",
       "      <td>C101</td>\n",
       "      <td>S</td>\n",
       "      <td>D</td>\n",
       "      <td>NaN</td>\n",
       "      <td>Bayside, Queens, NY</td>\n",
       "    </tr>\n",
       "    <tr>\n",
       "      <th>9</th>\n",
       "      <td>1.0</td>\n",
       "      <td>0</td>\n",
       "      <td>Artagaveytia, Mr. Ramon</td>\n",
       "      <td>male</td>\n",
       "      <td>71.0000</td>\n",
       "      <td>0.0</td>\n",
       "      <td>0.0</td>\n",
       "      <td>PC 17609</td>\n",
       "      <td>49.5042</td>\n",
       "      <td>None</td>\n",
       "      <td>C</td>\n",
       "      <td>None</td>\n",
       "      <td>22.0</td>\n",
       "      <td>Montevideo, Uruguay</td>\n",
       "    </tr>\n",
       "  </tbody>\n",
       "</table>\n",
       "</div>"
      ],
      "text/plain": [
       "   pclass survived                                             name     sex  \\\n",
       "0     1.0        1                    Allen, Miss. Elisabeth Walton  female   \n",
       "1     1.0        1                   Allison, Master. Hudson Trevor    male   \n",
       "2     1.0        0                     Allison, Miss. Helen Loraine  female   \n",
       "3     1.0        0             Allison, Mr. Hudson Joshua Creighton    male   \n",
       "4     1.0        0  Allison, Mrs. Hudson J C (Bessie Waldo Daniels)  female   \n",
       "5     1.0        1                              Anderson, Mr. Harry    male   \n",
       "6     1.0        1                Andrews, Miss. Kornelia Theodosia  female   \n",
       "7     1.0        0                           Andrews, Mr. Thomas Jr    male   \n",
       "8     1.0        1    Appleton, Mrs. Edward Dale (Charlotte Lamson)  female   \n",
       "9     1.0        0                          Artagaveytia, Mr. Ramon    male   \n",
       "\n",
       "       age  sibsp  parch    ticket      fare    cabin embarked  boat   body  \\\n",
       "0  29.0000    0.0    0.0     24160  211.3375       B5        S     2    NaN   \n",
       "1   0.9167    1.0    2.0    113781  151.5500  C22 C26        S    11    NaN   \n",
       "2   2.0000    1.0    2.0    113781  151.5500  C22 C26        S  None    NaN   \n",
       "3  30.0000    1.0    2.0    113781  151.5500  C22 C26        S  None  135.0   \n",
       "4  25.0000    1.0    2.0    113781  151.5500  C22 C26        S  None    NaN   \n",
       "5  48.0000    0.0    0.0     19952   26.5500      E12        S     3    NaN   \n",
       "6  63.0000    1.0    0.0     13502   77.9583       D7        S    10    NaN   \n",
       "7  39.0000    0.0    0.0    112050    0.0000      A36        S  None    NaN   \n",
       "8  53.0000    2.0    0.0     11769   51.4792     C101        S     D    NaN   \n",
       "9  71.0000    0.0    0.0  PC 17609   49.5042     None        C  None   22.0   \n",
       "\n",
       "                         home.dest  \n",
       "0                     St Louis, MO  \n",
       "1  Montreal, PQ / Chesterville, ON  \n",
       "2  Montreal, PQ / Chesterville, ON  \n",
       "3  Montreal, PQ / Chesterville, ON  \n",
       "4  Montreal, PQ / Chesterville, ON  \n",
       "5                     New York, NY  \n",
       "6                       Hudson, NY  \n",
       "7                      Belfast, NI  \n",
       "8              Bayside, Queens, NY  \n",
       "9              Montevideo, Uruguay  "
      ]
     },
     "execution_count": 3,
     "metadata": {},
     "output_type": "execute_result"
    }
   ],
   "source": [
    "df.head(10)"
   ]
  },
  {
   "cell_type": "code",
   "execution_count": 4,
   "id": "38b08de0-a439-4a69-81ed-d2861d09cb7e",
   "metadata": {},
   "outputs": [
    {
     "name": "stdout",
     "output_type": "stream",
     "text": [
      "<class 'pandas.core.frame.DataFrame'>\n",
      "RangeIndex: 1309 entries, 0 to 1308\n",
      "Data columns (total 14 columns):\n",
      " #   Column     Non-Null Count  Dtype  \n",
      "---  ------     --------------  -----  \n",
      " 0   pclass     1309 non-null   float64\n",
      " 1   survived   1309 non-null   object \n",
      " 2   name       1309 non-null   object \n",
      " 3   sex        1309 non-null   object \n",
      " 4   age        1046 non-null   float64\n",
      " 5   sibsp      1309 non-null   float64\n",
      " 6   parch      1309 non-null   float64\n",
      " 7   ticket     1309 non-null   object \n",
      " 8   fare       1308 non-null   float64\n",
      " 9   cabin      295 non-null    object \n",
      " 10  embarked   1307 non-null   object \n",
      " 11  boat       486 non-null    object \n",
      " 12  body       121 non-null    float64\n",
      " 13  home.dest  745 non-null    object \n",
      "dtypes: float64(6), object(8)\n",
      "memory usage: 143.3+ KB\n"
     ]
    }
   ],
   "source": [
    "df.info()"
   ]
  },
  {
   "cell_type": "markdown",
   "id": "f9be89ef-c7aa-4f66-bbdb-7cef26934889",
   "metadata": {},
   "source": [
    "Kolumny pclass, sibsp, parch, body też uznam jako zmienne jakościowe tak więc zmieniam ich typ na string, żeby w dalszej analizie zakwalifikowwały się jako 'categorical_columns'"
   ]
  },
  {
   "cell_type": "code",
   "execution_count": 5,
   "id": "b814ad74-bda8-4253-9f9a-20dd7623254f",
   "metadata": {},
   "outputs": [],
   "source": [
    "df['pclass'] = df['pclass'].astype('str')\n",
    "df['sibsp'] = df['sibsp'].astype('str')\n",
    "df['parch'] = df['parch'].astype('str')\n",
    "df['body'] = df['body'].astype('str')"
   ]
  },
  {
   "cell_type": "markdown",
   "id": "ce482bbd-f32f-4625-bda5-ca8aac839834",
   "metadata": {},
   "source": [
    "1. Sprawdź liczebność poszczególnych etykiet dla danych zmiennych jakościowych"
   ]
  },
  {
   "cell_type": "code",
   "execution_count": 6,
   "id": "b60204a4-2bf4-434b-9732-db20ebbed5b1",
   "metadata": {},
   "outputs": [
    {
     "name": "stdout",
     "output_type": "stream",
     "text": [
      "Liczba etykiet zmiennej pclass: 3, Moc zbioru: niska\n",
      "Liczba etykiet zmiennej survived: 2, Moc zbioru: niska\n",
      "Liczba etykiet zmiennej name: 1307, Moc zbioru: wysoka\n",
      "Liczba etykiet zmiennej sex: 2, Moc zbioru: niska\n",
      "Liczba etykiet zmiennej sibsp: 7, Moc zbioru: niska\n",
      "Liczba etykiet zmiennej parch: 8, Moc zbioru: niska\n",
      "Liczba etykiet zmiennej ticket: 929, Moc zbioru: wysoka\n",
      "Liczba etykiet zmiennej cabin: 187, Moc zbioru: wysoka\n",
      "Liczba etykiet zmiennej embarked: 4, Moc zbioru: niska\n",
      "Liczba etykiet zmiennej boat: 28, Moc zbioru: wysoka\n",
      "Liczba etykiet zmiennej body: 122, Moc zbioru: wysoka\n",
      "Liczba etykiet zmiennej home.dest: 370, Moc zbioru: wysoka\n"
     ]
    }
   ],
   "source": [
    "categorical_columns = [col for col in df.columns if df[col].dtype == 'object']\n",
    "for column_name in categorical_columns:\n",
    "    unique_values = len(df[f'{column_name}'].unique())\n",
    "    # Uznałem 10 jako granicę mocy zbioru pomiędzy wysoką a niską\n",
    "    cardinality = 'wysoka' if unique_values > 10 else 'niska'\n",
    "    print(f'Liczba etykiet zmiennej {column_name}: {unique_values}, Moc zbioru: {cardinality}')\n",
    "    "
   ]
  },
  {
   "cell_type": "markdown",
   "id": "925d49b9-fb5b-484e-8ccb-af4df8bebfda",
   "metadata": {},
   "source": [
    "2. Wyświetl z użyciem funkcji print liczbę wszystkich pasażerów. Wykorzystaj podobny sposób jak w ptk 1. "
   ]
  },
  {
   "cell_type": "code",
   "execution_count": 7,
   "id": "145ccd83-f757-4a0b-960b-b8b30ddc4fdc",
   "metadata": {},
   "outputs": [
    {
     "name": "stdout",
     "output_type": "stream",
     "text": [
      "Liczba pasażerów 1309\n"
     ]
    }
   ],
   "source": [
    "print(f'Liczba pasażerów {len(df)}')"
   ]
  },
  {
   "cell_type": "markdown",
   "id": "ca8963b5-e56f-40d7-ac51-d9fb54a8fdab",
   "metadata": {},
   "source": [
    "3.     Skomentuj wyniki otrzymane w punkcie 1 i 2. Podziel zmienne ze względu na dużą i małą moc zbioru (kardynalność). "
   ]
  },
  {
   "cell_type": "code",
   "execution_count": 8,
   "id": "4aed1afa-36f2-42a2-9d49-612777bc527a",
   "metadata": {},
   "outputs": [
    {
     "name": "stdout",
     "output_type": "stream",
     "text": [
      "Moc zbioru zmiennej pclass: niska\n",
      "Moc zbioru zmiennej survived: niska\n",
      "Moc zbioru zmiennej name: wysoka\n",
      "Moc zbioru zmiennej sex: niska\n",
      "Moc zbioru zmiennej sibsp: niska\n",
      "Moc zbioru zmiennej parch: niska\n",
      "Moc zbioru zmiennej ticket: wysoka\n",
      "Moc zbioru zmiennej cabin: wysoka\n",
      "Moc zbioru zmiennej embarked: niska\n",
      "Moc zbioru zmiennej boat: wysoka\n",
      "Moc zbioru zmiennej body: wysoka\n",
      "Moc zbioru zmiennej home.dest: wysoka\n"
     ]
    }
   ],
   "source": [
    "for column_name in categorical_columns:\n",
    "    unique_values = len(df[f'{column_name}'].unique())\n",
    "    # Uznałem 10 jako granicę mocy zbioru pomiędzy wysoką a niską\n",
    "    cardinality = 'wysoka' if unique_values > 10 else 'niska'\n",
    "    print(f'Moc zbioru zmiennej {column_name}: {cardinality}')"
   ]
  },
  {
   "cell_type": "markdown",
   "id": "bacc5bcb-4051-406b-a63b-841f96ebdb65",
   "metadata": {},
   "source": [
    "Komentarz:\n",
    " - Wszystkie zmienne poniżej 10 uznałem za mające niską moc zbioru, ze względu na relatwyną moc do pozostałych, gdzie wartości są > 100\n",
    " - Jedyna zmienna posiadająca 'średnią' moc zbioru to boat, ale ze względu na narzucony podział uznałem ją za wysoką"
   ]
  },
  {
   "cell_type": "markdown",
   "id": "109c0ef3-f9bc-46fd-becf-8501b9bdeb37",
   "metadata": {},
   "source": [
    "4. Sprawdź, ile unikalnych etykiet ma zmienna mówiąca o kabinie danego pasażera. Użyj takiej funkcji, która zwraca wynik w postaci NumPy array."
   ]
  },
  {
   "cell_type": "code",
   "execution_count": 9,
   "id": "f376cc1a-9598-4f8c-b4c0-17549ad93aee",
   "metadata": {},
   "outputs": [
    {
     "name": "stdout",
     "output_type": "stream",
     "text": [
      "['B5' 'C22 C26' 'E12' 'D7' 'A36' 'C101' None 'C62 C64' 'B35' 'A23'\n",
      " 'B58 B60' 'D15' 'C6' 'D35' 'C148' 'C97' 'B49' 'C99' 'C52' 'T' 'A31' 'C7'\n",
      " 'C103' 'D22' 'E33' 'A21' 'B10' 'B4' 'E40' 'B38' 'E24' 'B51 B53 B55'\n",
      " 'B96 B98' 'C46' 'E31' 'E8' 'B61' 'B77' 'A9' 'C89' 'A14' 'E58' 'E49' 'E52'\n",
      " 'E45' 'B22' 'B26' 'C85' 'E17' 'B71' 'B20' 'A34' 'C86' 'A16' 'A20' 'A18'\n",
      " 'C54' 'C45' 'D20' 'A29' 'C95' 'E25' 'C111' 'C23 C25 C27' 'E36' 'D34'\n",
      " 'D40' 'B39' 'B41' 'B102' 'C123' 'E63' 'C130' 'B86' 'C92' 'A5' 'C51' 'B42'\n",
      " 'C91' 'C125' 'D10 D12' 'B82 B84' 'E50' 'D33' 'C83' 'B94' 'D49' 'D45'\n",
      " 'B69' 'B11' 'E46' 'C39' 'B18' 'D11' 'C93' 'B28' 'C49' 'B52 B54 B56' 'E60'\n",
      " 'C132' 'B37' 'D21' 'D19' 'C124' 'D17' 'B101' 'D28' 'D6' 'D9' 'B80' 'C106'\n",
      " 'B79' 'C47' 'D30' 'C90' 'E38' 'C78' 'C30' 'C118' 'D36' 'D48' 'D47' 'C105'\n",
      " 'B36' 'B30' 'D43' 'B24' 'C2' 'C65' 'B73' 'C104' 'C110' 'C50' 'B3' 'A24'\n",
      " 'A32' 'A11' 'A10' 'B57 B59 B63 B66' 'C28' 'E44' 'A26' 'A6' 'A7' 'C31'\n",
      " 'A19' 'B45' 'E34' 'B78' 'B50' 'C87' 'C116' 'C55 C57' 'D50' 'E68' 'E67'\n",
      " 'C126' 'C68' 'C70' 'C53' 'B19' 'D46' 'D37' 'D26' 'C32' 'C80' 'C82' 'C128'\n",
      " 'E39 E41' 'D' 'F4' 'D56' 'F33' 'E101' 'E77' 'F2' 'D38' 'F' 'F G63'\n",
      " 'F E57' 'F E46' 'F G73' 'E121' 'F E69' 'E10' 'G6' 'F38']\n",
      "Typ: <class 'numpy.ndarray'>\n"
     ]
    }
   ],
   "source": [
    "cabin_unique = df.cabin.unique()\n",
    "print(cabin_unique)\n",
    "print(\"Typ:\",type(cabin_unique))"
   ]
  },
  {
   "cell_type": "markdown",
   "id": "903cff38-e989-4b86-b685-d7f97556090b",
   "metadata": {},
   "source": [
    "5.     Zredukuj liczbę cech dla zmiennej opisującej kabiny poprzez zastąpienie obecnych etykiet w formacie LL11 do etykiet zawierających tylko pierwszą literę. Użyj astype(str).str[pozycja]. Nową zmienną nazwij CabinReduced. Wyświetl pierwsze 20 wierszy zbioru danych dla kolumn Cabin i CabinReduced"
   ]
  },
  {
   "cell_type": "code",
   "execution_count": 10,
   "id": "074a8676-2f60-4199-8075-34f0f96a92c6",
   "metadata": {},
   "outputs": [
    {
     "data": {
      "text/html": [
       "<div>\n",
       "<style scoped>\n",
       "    .dataframe tbody tr th:only-of-type {\n",
       "        vertical-align: middle;\n",
       "    }\n",
       "\n",
       "    .dataframe tbody tr th {\n",
       "        vertical-align: top;\n",
       "    }\n",
       "\n",
       "    .dataframe thead th {\n",
       "        text-align: right;\n",
       "    }\n",
       "</style>\n",
       "<table border=\"1\" class=\"dataframe\">\n",
       "  <thead>\n",
       "    <tr style=\"text-align: right;\">\n",
       "      <th></th>\n",
       "      <th>CabinReduced</th>\n",
       "      <th>cabin</th>\n",
       "    </tr>\n",
       "  </thead>\n",
       "  <tbody>\n",
       "    <tr>\n",
       "      <th>0</th>\n",
       "      <td>B</td>\n",
       "      <td>B5</td>\n",
       "    </tr>\n",
       "    <tr>\n",
       "      <th>1</th>\n",
       "      <td>C</td>\n",
       "      <td>C22 C26</td>\n",
       "    </tr>\n",
       "    <tr>\n",
       "      <th>2</th>\n",
       "      <td>C</td>\n",
       "      <td>C22 C26</td>\n",
       "    </tr>\n",
       "    <tr>\n",
       "      <th>3</th>\n",
       "      <td>C</td>\n",
       "      <td>C22 C26</td>\n",
       "    </tr>\n",
       "    <tr>\n",
       "      <th>4</th>\n",
       "      <td>C</td>\n",
       "      <td>C22 C26</td>\n",
       "    </tr>\n",
       "    <tr>\n",
       "      <th>5</th>\n",
       "      <td>E</td>\n",
       "      <td>E12</td>\n",
       "    </tr>\n",
       "    <tr>\n",
       "      <th>6</th>\n",
       "      <td>D</td>\n",
       "      <td>D7</td>\n",
       "    </tr>\n",
       "    <tr>\n",
       "      <th>7</th>\n",
       "      <td>A</td>\n",
       "      <td>A36</td>\n",
       "    </tr>\n",
       "    <tr>\n",
       "      <th>8</th>\n",
       "      <td>C</td>\n",
       "      <td>C101</td>\n",
       "    </tr>\n",
       "    <tr>\n",
       "      <th>9</th>\n",
       "      <td>N</td>\n",
       "      <td>None</td>\n",
       "    </tr>\n",
       "    <tr>\n",
       "      <th>10</th>\n",
       "      <td>C</td>\n",
       "      <td>C62 C64</td>\n",
       "    </tr>\n",
       "    <tr>\n",
       "      <th>11</th>\n",
       "      <td>C</td>\n",
       "      <td>C62 C64</td>\n",
       "    </tr>\n",
       "    <tr>\n",
       "      <th>12</th>\n",
       "      <td>B</td>\n",
       "      <td>B35</td>\n",
       "    </tr>\n",
       "    <tr>\n",
       "      <th>13</th>\n",
       "      <td>N</td>\n",
       "      <td>None</td>\n",
       "    </tr>\n",
       "    <tr>\n",
       "      <th>14</th>\n",
       "      <td>A</td>\n",
       "      <td>A23</td>\n",
       "    </tr>\n",
       "    <tr>\n",
       "      <th>15</th>\n",
       "      <td>N</td>\n",
       "      <td>None</td>\n",
       "    </tr>\n",
       "    <tr>\n",
       "      <th>16</th>\n",
       "      <td>B</td>\n",
       "      <td>B58 B60</td>\n",
       "    </tr>\n",
       "    <tr>\n",
       "      <th>17</th>\n",
       "      <td>B</td>\n",
       "      <td>B58 B60</td>\n",
       "    </tr>\n",
       "    <tr>\n",
       "      <th>18</th>\n",
       "      <td>D</td>\n",
       "      <td>D15</td>\n",
       "    </tr>\n",
       "    <tr>\n",
       "      <th>19</th>\n",
       "      <td>C</td>\n",
       "      <td>C6</td>\n",
       "    </tr>\n",
       "  </tbody>\n",
       "</table>\n",
       "</div>"
      ],
      "text/plain": [
       "   CabinReduced    cabin\n",
       "0             B       B5\n",
       "1             C  C22 C26\n",
       "2             C  C22 C26\n",
       "3             C  C22 C26\n",
       "4             C  C22 C26\n",
       "5             E      E12\n",
       "6             D       D7\n",
       "7             A      A36\n",
       "8             C     C101\n",
       "9             N     None\n",
       "10            C  C62 C64\n",
       "11            C  C62 C64\n",
       "12            B      B35\n",
       "13            N     None\n",
       "14            A      A23\n",
       "15            N     None\n",
       "16            B  B58 B60\n",
       "17            B  B58 B60\n",
       "18            D      D15\n",
       "19            C       C6"
      ]
     },
     "execution_count": 10,
     "metadata": {},
     "output_type": "execute_result"
    }
   ],
   "source": [
    "df['CabinReduced'] = df['cabin'].astype(str).str[0]\n",
    "df[['CabinReduced','cabin']].head(20)"
   ]
  },
  {
   "cell_type": "markdown",
   "id": "09a6222a-e3a9-484e-85ed-4a45e7307457",
   "metadata": {},
   "source": [
    "6.     Wyświetl (jak w pkt 1) liczbę etykiet dla zmiennych z ptk 5. O ile procent zredukowano kardynalność zbioru zmiennej opisującej kabiny?"
   ]
  },
  {
   "cell_type": "code",
   "execution_count": 11,
   "id": "2819c1b0-1f0a-4381-b381-ef5795e94d8d",
   "metadata": {},
   "outputs": [
    {
     "name": "stdout",
     "output_type": "stream",
     "text": [
      "Liczba etykiet zmiennej CabinReduced: 9, Moc zbioru: wysoka\n",
      "Liczba etykiet zmiennej cabin: 187, Moc zbioru: wysoka\n",
      "Kardynalność zbioru zredukowano o  95.19 %\n"
     ]
    }
   ],
   "source": [
    "unique_values_red = len(df['CabinReduced'].unique())\n",
    "cardinality = 'wysoka' if unique_values > 10 else 'niska'\n",
    "print(f'Liczba etykiet zmiennej CabinReduced: {unique_values_red}, Moc zbioru: {cardinality}')\n",
    "unique_values = len(df['cabin'].unique())\n",
    "cardinality = 'wysoka' if unique_values > 10 else 'niska'\n",
    "print(f'Liczba etykiet zmiennej cabin: {unique_values}, Moc zbioru: {cardinality}')\n",
    "procent_redukcji = (unique_values-unique_values_red)/unique_values * 100\n",
    "print(f'Kardynalność zbioru zredukowano o ',\"{:.2f}\".format(procent_redukcji), \"%\")"
   ]
  },
  {
   "cell_type": "markdown",
   "id": "78992388-ab60-4ecd-91dd-f41f5b46e75b",
   "metadata": {},
   "source": [
    "7.     Uzasadnij dlaczego dokonujesz redukcji akurat tej zmiennej. Jak to wpływa na przyszłe analizy. Czy powoduje jakieś negatywne skutki?"
   ]
  },
  {
   "cell_type": "markdown",
   "id": "a289e15b-4705-486e-82df-bfaf472b270d",
   "metadata": {},
   "source": [
    "- Ponieważ, kolumna cabin, była cechą o bardzo wysokiej kardynalności, zmniejeszenie jej ze 187 do 9, pozwala nam na łatwiejsze przetwarzanie i interpretację jej.\n",
    "- Odpowiadając, na pytanie czy powoduje to jakieś negatwyne skutki ? to zależy.\n",
    "- Pozbywamy się informacji o konkretnej kabinie, lecz może to być informacja nieistotna w zależności od natury dalszej analizy.\n",
    "- Trudno jest na tym etapie jednoznacznie ocenić, czy redukcja będzie miała negatywne czy pozytywne skutki."
   ]
  },
  {
   "cell_type": "code",
   "execution_count": 14,
   "id": "acc6659f-3237-49b9-af3a-87723233e78a",
   "metadata": {},
   "outputs": [],
   "source": [
    "df.to_csv('dane.csv',index=False)"
   ]
  }
 ],
 "metadata": {
  "kernelspec": {
   "display_name": "Python 3 (ipykernel)",
   "language": "python",
   "name": "python3"
  },
  "language_info": {
   "codemirror_mode": {
    "name": "ipython",
    "version": 3
   },
   "file_extension": ".py",
   "mimetype": "text/x-python",
   "name": "python",
   "nbconvert_exporter": "python",
   "pygments_lexer": "ipython3",
   "version": "3.11.6"
  }
 },
 "nbformat": 4,
 "nbformat_minor": 5
}
