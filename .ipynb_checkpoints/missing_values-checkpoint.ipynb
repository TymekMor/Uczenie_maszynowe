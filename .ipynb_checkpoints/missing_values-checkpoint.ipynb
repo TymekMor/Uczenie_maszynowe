{
 "cells": [
  {
   "cell_type": "markdown",
   "id": "19367a9f-024d-40fa-9ede-c2b5ff99ccc0",
   "metadata": {},
   "source": [
    "# Lab 5\n"
   ]
  },
  {
   "cell_type": "code",
   "execution_count": 1,
   "id": "1cebac67-725c-434e-a7a8-835ce89c9bfa",
   "metadata": {},
   "outputs": [],
   "source": [
    "import pandas as pd\n",
    "import arff\n",
    "import matplotlib.pyplot as plt\n",
    "import seaborn as sns\n",
    "import numpy as np"
   ]
  },
  {
   "cell_type": "code",
   "execution_count": 2,
   "id": "dd1cbe39-4262-4251-9887-47a7b4fe37e3",
   "metadata": {
    "scrolled": true
   },
   "outputs": [],
   "source": [
    "with open('dane.arff', 'r') as f:\n",
    "    data = arff.load(f)\n",
    "attributes = [attr[0] for attr in data['attributes']]\n",
    "data_rows = data['data']\n",
    "df = pd.DataFrame(data_rows, columns=attributes)\n"
   ]
  },
  {
   "cell_type": "markdown",
   "id": "ce21c91a-895e-4e26-8aa3-fdba0d7ed9cc",
   "metadata": {},
   "source": [
    "Dokonaj wstępnej inspekcji pierwszych 20 wierszy. Co widzisz? Jaka jest liczba (features) cech w zbiorze?\n",
    " - features: 14\n",
    " - brakuje danych w features: age,cabin,embarked,boat,body,home.dest\n",
    " - przy czym boat cabin i body mają ponad 50% brakujących danych, body aż 90%"
   ]
  },
  {
   "cell_type": "markdown",
   "id": "eb42cab7-92b8-4de4-bf18-5a735cc7eed1",
   "metadata": {},
   "source": [
    "VARIABLE DESCRIPTIONS\n",
    "- Pclass Passenger Class (1 = 1st; 2 = 2nd; 3 = 3rd)\n",
    "- survival Survival (0 = No; 1 = Yes)\n",
    "- name Name\n",
    "- sex Sex\n",
    "- age Age\n",
    "- sibsp Number of Siblings/Spouses Aboard\n",
    "- parch Number of Parents/Children Aboard\n",
    "- ticket Ticket Number\n",
    "- fare Passenger Fare (British pound)\n",
    "- cabin Cabin\n",
    "- embarked Port of Embarkation (C = Cherbourg; Q = Queenstown; S = Southampton)\n",
    "- boat Lifeboat\n",
    "- body Body Identification Number\n",
    "- home.dest Home/Destination"
   ]
  },
  {
   "cell_type": "code",
   "execution_count": 3,
   "id": "ae2439be-e7a8-430d-8afe-fc912884caff",
   "metadata": {
    "scrolled": true
   },
   "outputs": [
    {
     "data": {
      "text/html": [
       "<div>\n",
       "<style scoped>\n",
       "    .dataframe tbody tr th:only-of-type {\n",
       "        vertical-align: middle;\n",
       "    }\n",
       "\n",
       "    .dataframe tbody tr th {\n",
       "        vertical-align: top;\n",
       "    }\n",
       "\n",
       "    .dataframe thead th {\n",
       "        text-align: right;\n",
       "    }\n",
       "</style>\n",
       "<table border=\"1\" class=\"dataframe\">\n",
       "  <thead>\n",
       "    <tr style=\"text-align: right;\">\n",
       "      <th></th>\n",
       "      <th>pclass</th>\n",
       "      <th>survived</th>\n",
       "      <th>name</th>\n",
       "      <th>sex</th>\n",
       "      <th>age</th>\n",
       "      <th>sibsp</th>\n",
       "      <th>parch</th>\n",
       "      <th>ticket</th>\n",
       "      <th>fare</th>\n",
       "      <th>cabin</th>\n",
       "      <th>embarked</th>\n",
       "      <th>boat</th>\n",
       "      <th>body</th>\n",
       "      <th>home.dest</th>\n",
       "    </tr>\n",
       "  </thead>\n",
       "  <tbody>\n",
       "    <tr>\n",
       "      <th>0</th>\n",
       "      <td>1.0</td>\n",
       "      <td>1</td>\n",
       "      <td>Allen, Miss. Elisabeth Walton</td>\n",
       "      <td>female</td>\n",
       "      <td>29.0000</td>\n",
       "      <td>0.0</td>\n",
       "      <td>0.0</td>\n",
       "      <td>24160</td>\n",
       "      <td>211.3375</td>\n",
       "      <td>B5</td>\n",
       "      <td>S</td>\n",
       "      <td>2</td>\n",
       "      <td>NaN</td>\n",
       "      <td>St Louis, MO</td>\n",
       "    </tr>\n",
       "    <tr>\n",
       "      <th>1</th>\n",
       "      <td>1.0</td>\n",
       "      <td>1</td>\n",
       "      <td>Allison, Master. Hudson Trevor</td>\n",
       "      <td>male</td>\n",
       "      <td>0.9167</td>\n",
       "      <td>1.0</td>\n",
       "      <td>2.0</td>\n",
       "      <td>113781</td>\n",
       "      <td>151.5500</td>\n",
       "      <td>C22 C26</td>\n",
       "      <td>S</td>\n",
       "      <td>11</td>\n",
       "      <td>NaN</td>\n",
       "      <td>Montreal, PQ / Chesterville, ON</td>\n",
       "    </tr>\n",
       "    <tr>\n",
       "      <th>2</th>\n",
       "      <td>1.0</td>\n",
       "      <td>0</td>\n",
       "      <td>Allison, Miss. Helen Loraine</td>\n",
       "      <td>female</td>\n",
       "      <td>2.0000</td>\n",
       "      <td>1.0</td>\n",
       "      <td>2.0</td>\n",
       "      <td>113781</td>\n",
       "      <td>151.5500</td>\n",
       "      <td>C22 C26</td>\n",
       "      <td>S</td>\n",
       "      <td>None</td>\n",
       "      <td>NaN</td>\n",
       "      <td>Montreal, PQ / Chesterville, ON</td>\n",
       "    </tr>\n",
       "    <tr>\n",
       "      <th>3</th>\n",
       "      <td>1.0</td>\n",
       "      <td>0</td>\n",
       "      <td>Allison, Mr. Hudson Joshua Creighton</td>\n",
       "      <td>male</td>\n",
       "      <td>30.0000</td>\n",
       "      <td>1.0</td>\n",
       "      <td>2.0</td>\n",
       "      <td>113781</td>\n",
       "      <td>151.5500</td>\n",
       "      <td>C22 C26</td>\n",
       "      <td>S</td>\n",
       "      <td>None</td>\n",
       "      <td>135.0</td>\n",
       "      <td>Montreal, PQ / Chesterville, ON</td>\n",
       "    </tr>\n",
       "    <tr>\n",
       "      <th>4</th>\n",
       "      <td>1.0</td>\n",
       "      <td>0</td>\n",
       "      <td>Allison, Mrs. Hudson J C (Bessie Waldo Daniels)</td>\n",
       "      <td>female</td>\n",
       "      <td>25.0000</td>\n",
       "      <td>1.0</td>\n",
       "      <td>2.0</td>\n",
       "      <td>113781</td>\n",
       "      <td>151.5500</td>\n",
       "      <td>C22 C26</td>\n",
       "      <td>S</td>\n",
       "      <td>None</td>\n",
       "      <td>NaN</td>\n",
       "      <td>Montreal, PQ / Chesterville, ON</td>\n",
       "    </tr>\n",
       "    <tr>\n",
       "      <th>5</th>\n",
       "      <td>1.0</td>\n",
       "      <td>1</td>\n",
       "      <td>Anderson, Mr. Harry</td>\n",
       "      <td>male</td>\n",
       "      <td>48.0000</td>\n",
       "      <td>0.0</td>\n",
       "      <td>0.0</td>\n",
       "      <td>19952</td>\n",
       "      <td>26.5500</td>\n",
       "      <td>E12</td>\n",
       "      <td>S</td>\n",
       "      <td>3</td>\n",
       "      <td>NaN</td>\n",
       "      <td>New York, NY</td>\n",
       "    </tr>\n",
       "    <tr>\n",
       "      <th>6</th>\n",
       "      <td>1.0</td>\n",
       "      <td>1</td>\n",
       "      <td>Andrews, Miss. Kornelia Theodosia</td>\n",
       "      <td>female</td>\n",
       "      <td>63.0000</td>\n",
       "      <td>1.0</td>\n",
       "      <td>0.0</td>\n",
       "      <td>13502</td>\n",
       "      <td>77.9583</td>\n",
       "      <td>D7</td>\n",
       "      <td>S</td>\n",
       "      <td>10</td>\n",
       "      <td>NaN</td>\n",
       "      <td>Hudson, NY</td>\n",
       "    </tr>\n",
       "    <tr>\n",
       "      <th>7</th>\n",
       "      <td>1.0</td>\n",
       "      <td>0</td>\n",
       "      <td>Andrews, Mr. Thomas Jr</td>\n",
       "      <td>male</td>\n",
       "      <td>39.0000</td>\n",
       "      <td>0.0</td>\n",
       "      <td>0.0</td>\n",
       "      <td>112050</td>\n",
       "      <td>0.0000</td>\n",
       "      <td>A36</td>\n",
       "      <td>S</td>\n",
       "      <td>None</td>\n",
       "      <td>NaN</td>\n",
       "      <td>Belfast, NI</td>\n",
       "    </tr>\n",
       "    <tr>\n",
       "      <th>8</th>\n",
       "      <td>1.0</td>\n",
       "      <td>1</td>\n",
       "      <td>Appleton, Mrs. Edward Dale (Charlotte Lamson)</td>\n",
       "      <td>female</td>\n",
       "      <td>53.0000</td>\n",
       "      <td>2.0</td>\n",
       "      <td>0.0</td>\n",
       "      <td>11769</td>\n",
       "      <td>51.4792</td>\n",
       "      <td>C101</td>\n",
       "      <td>S</td>\n",
       "      <td>D</td>\n",
       "      <td>NaN</td>\n",
       "      <td>Bayside, Queens, NY</td>\n",
       "    </tr>\n",
       "    <tr>\n",
       "      <th>9</th>\n",
       "      <td>1.0</td>\n",
       "      <td>0</td>\n",
       "      <td>Artagaveytia, Mr. Ramon</td>\n",
       "      <td>male</td>\n",
       "      <td>71.0000</td>\n",
       "      <td>0.0</td>\n",
       "      <td>0.0</td>\n",
       "      <td>PC 17609</td>\n",
       "      <td>49.5042</td>\n",
       "      <td>None</td>\n",
       "      <td>C</td>\n",
       "      <td>None</td>\n",
       "      <td>22.0</td>\n",
       "      <td>Montevideo, Uruguay</td>\n",
       "    </tr>\n",
       "  </tbody>\n",
       "</table>\n",
       "</div>"
      ],
      "text/plain": [
       "   pclass survived                                             name     sex  \\\n",
       "0     1.0        1                    Allen, Miss. Elisabeth Walton  female   \n",
       "1     1.0        1                   Allison, Master. Hudson Trevor    male   \n",
       "2     1.0        0                     Allison, Miss. Helen Loraine  female   \n",
       "3     1.0        0             Allison, Mr. Hudson Joshua Creighton    male   \n",
       "4     1.0        0  Allison, Mrs. Hudson J C (Bessie Waldo Daniels)  female   \n",
       "5     1.0        1                              Anderson, Mr. Harry    male   \n",
       "6     1.0        1                Andrews, Miss. Kornelia Theodosia  female   \n",
       "7     1.0        0                           Andrews, Mr. Thomas Jr    male   \n",
       "8     1.0        1    Appleton, Mrs. Edward Dale (Charlotte Lamson)  female   \n",
       "9     1.0        0                          Artagaveytia, Mr. Ramon    male   \n",
       "\n",
       "       age  sibsp  parch    ticket      fare    cabin embarked  boat   body  \\\n",
       "0  29.0000    0.0    0.0     24160  211.3375       B5        S     2    NaN   \n",
       "1   0.9167    1.0    2.0    113781  151.5500  C22 C26        S    11    NaN   \n",
       "2   2.0000    1.0    2.0    113781  151.5500  C22 C26        S  None    NaN   \n",
       "3  30.0000    1.0    2.0    113781  151.5500  C22 C26        S  None  135.0   \n",
       "4  25.0000    1.0    2.0    113781  151.5500  C22 C26        S  None    NaN   \n",
       "5  48.0000    0.0    0.0     19952   26.5500      E12        S     3    NaN   \n",
       "6  63.0000    1.0    0.0     13502   77.9583       D7        S    10    NaN   \n",
       "7  39.0000    0.0    0.0    112050    0.0000      A36        S  None    NaN   \n",
       "8  53.0000    2.0    0.0     11769   51.4792     C101        S     D    NaN   \n",
       "9  71.0000    0.0    0.0  PC 17609   49.5042     None        C  None   22.0   \n",
       "\n",
       "                         home.dest  \n",
       "0                     St Louis, MO  \n",
       "1  Montreal, PQ / Chesterville, ON  \n",
       "2  Montreal, PQ / Chesterville, ON  \n",
       "3  Montreal, PQ / Chesterville, ON  \n",
       "4  Montreal, PQ / Chesterville, ON  \n",
       "5                     New York, NY  \n",
       "6                       Hudson, NY  \n",
       "7                      Belfast, NI  \n",
       "8              Bayside, Queens, NY  \n",
       "9              Montevideo, Uruguay  "
      ]
     },
     "execution_count": 3,
     "metadata": {},
     "output_type": "execute_result"
    }
   ],
   "source": [
    "df.head(10)"
   ]
  },
  {
   "cell_type": "code",
   "execution_count": 4,
   "id": "61824fbe-c24a-4bb0-a176-b833ad376f89",
   "metadata": {},
   "outputs": [
    {
     "name": "stdout",
     "output_type": "stream",
     "text": [
      "Wymiary: rows: 1309 features: 14\n",
      "pclass          0\n",
      "survived        0\n",
      "name            0\n",
      "sex             0\n",
      "age           263\n",
      "sibsp           0\n",
      "parch           0\n",
      "ticket          0\n",
      "fare            1\n",
      "cabin        1014\n",
      "embarked        2\n",
      "boat          823\n",
      "body         1188\n",
      "home.dest     564\n",
      "dtype: int64\n",
      "pclass       0.000000\n",
      "survived     0.000000\n",
      "name         0.000000\n",
      "sex          0.000000\n",
      "age          0.200917\n",
      "sibsp        0.000000\n",
      "parch        0.000000\n",
      "ticket       0.000000\n",
      "fare         0.000764\n",
      "cabin        0.774637\n",
      "embarked     0.001528\n",
      "boat         0.628724\n",
      "body         0.907563\n",
      "home.dest    0.430863\n",
      "dtype: float64\n"
     ]
    }
   ],
   "source": [
    "print('Wymiary: rows:', df.shape[0],'features:', df.shape[1])\n",
    "print(df.isnull().sum())\n",
    "print(df.isnull().mean())"
   ]
  },
  {
   "cell_type": "markdown",
   "id": "f882410a-eb5b-404c-9fac-0e80ba13b874",
   "metadata": {},
   "source": [
    "Zbadajmy feature: body, ponieważ tam brakuje najwięcej danych"
   ]
  },
  {
   "cell_type": "code",
   "execution_count": 5,
   "id": "34779469-fdb1-430e-882f-bc1e76eb4812",
   "metadata": {},
   "outputs": [
    {
     "name": "stdout",
     "output_type": "stream",
     "text": [
      "Ilość osób które nie przeżyły: 809\n",
      "Ilość znalezionych ciał: 121\n",
      "Ilość NIE znalezionych ciał: 688\n",
      "Ilość wartości NaN: 1188\n",
      "Suma NIE znalezionych ciał i osób które przeżyły jest równa ilości wartośći NaN w naszym zbiorze, stąd ponad 90% 'brakujących' danych\n",
      "Oznacza to, że jest to MNAR, ponieważ dla każdego survived == 1, mamy NaN\n"
     ]
    }
   ],
   "source": [
    "non_survivors = df.groupby('survived').size()[0]\n",
    "found_bodies = df.groupby('survived')['body'].count()[0]\n",
    "not_found_bodies = non_survivors - found_bodies\n",
    "survivors_and_not_found_bodies = len(df['survived']) - found_bodies\n",
    "print('Ilość osób które nie przeżyły:',non_survivors)\n",
    "\n",
    "print('Ilość znalezionych ciał:',found_bodies)\n",
    "\n",
    "print('Ilość NIE znalezionych ciał:',not_found_bodies)\n",
    "\n",
    "print(\"Ilość wartości NaN:\", survivors_and_not_found_bodies) \n",
    "print(\"Suma NIE znalezionych ciał i osób które przeżyły jest równa ilości wartośći NaN w naszym zbiorze, stąd ponad 90% 'brakujących' danych\")\n",
    "print(\"Oznacza to, że jest to MNAR, ponieważ dla każdego survived == 1, mamy NaN\")"
   ]
  },
  {
   "cell_type": "markdown",
   "id": "6ab1a3d6-905e-472f-a4ff-5c79ded55081",
   "metadata": {},
   "source": [
    "Następnie zbadajmy feature: cabin == MAR"
   ]
  },
  {
   "cell_type": "code",
   "execution_count": 6,
   "id": "2fa2e4c7-1471-4e47-9eef-da751763b9a3",
   "metadata": {},
   "outputs": [
    {
     "name": "stdout",
     "output_type": "stream",
     "text": [
      "survived  cabinNull\n",
      "0         0            102\n",
      "          1            707\n",
      "1         0            193\n",
      "          1            307\n",
      "dtype: int64\n",
      "Najwięcej danych brakuje dla osób, które nie przeżyły: 707. Co ciekawe dla osób, które przetrwały mamy 307 brakujących danych\n",
      "Może pasażerowie w ramach szoku zapomnieli, w jakich kabinach mieszkali, lub jest to część załogi, która mieszkała w niezonazkowanych kabinach\n",
      "Jest to jedynie spekulacja, więc możemy oznaczyć tą kolumną jako MAR, ponieważ brakujące dane nie mają jednostajnego rozkładu\n"
     ]
    }
   ],
   "source": [
    "df['cabinNull'] = np.where(df['cabin'].isnull(), 1, 0)\n",
    "print(df.groupby(['survived','cabinNull']).size())\n",
    "print('Najwięcej danych brakuje dla osób, które nie przeżyły: 707. Co ciekawe dla osób, które przetrwały mamy 307 brakujących danych')\n",
    "print('Może pasażerowie w ramach szoku zapomnieli, w jakich kabinach mieszkali, lub jest to część załogi, która mieszkała w niezonazkowanych kabinach')\n",
    "print('Jest to jedynie spekulacja, więc możemy oznaczyć tą kolumną jako MAR, ponieważ brakujące dane nie mają jednostajnego rozkładu')"
   ]
  },
  {
   "cell_type": "markdown",
   "id": "e5aa2b7a-212d-406f-982d-69a29249cc27",
   "metadata": {},
   "source": [
    "Następnie zbadajmy feature: boat == MNAR"
   ]
  },
  {
   "cell_type": "code",
   "execution_count": 7,
   "id": "faba6be6-cdca-4568-9219-f0c194c99c2c",
   "metadata": {},
   "outputs": [
    {
     "name": "stdout",
     "output_type": "stream",
     "text": [
      "survived  boatNull\n",
      "0         0             9\n",
      "          1           800\n",
      "1         0           477\n",
      "          1            23\n",
      "dtype: int64\n",
      "9 osób, które nie przeżyły, były na łodzi oraz 23 osoby które były na łodziach nie przeżyły\n",
      "Jak można się domyślić, wartość NaN w kolumnie: boat, oznacza, że osoba nie wylądowała na szalupie ratunkowej, ponieważ aż 800 osób które nie przetrwało, nie było na łodziach. A 477 które przetrwało było na łodziach. Więc jest tu ewidentna zależność\n",
      "Tak więc, brakujące dane w kolumnie: boat oznaczymy jako MNAR\n"
     ]
    }
   ],
   "source": [
    "df['boatNull'] = np.where(df['boat'].isnull(), 1, 0)\n",
    "print(df.groupby(['survived','boatNull']).size())\n",
    "print(\"9 osób, które nie przeżyły, były na łodzi oraz 23 osoby które były na łodziach nie przeżyły\")\n",
    "print('Jak można się domyślić, wartość NaN w kolumnie: boat, oznacza, że osoba nie wylądowała na szalupie ratunkowej, ponieważ aż 800 osób które nie przetrwało, nie było na łodziach. A 477 które przetrwało było na łodziach. Więc jest tu ewidentna zależność')\n",
    "print('Tak więc, brakujące dane w kolumnie: boat oznaczymy jako MNAR')"
   ]
  },
  {
   "cell_type": "code",
   "execution_count": 10,
   "id": "4435d4f7-201b-4c0e-b1ed-90bc49892edc",
   "metadata": {},
   "outputs": [
    {
     "data": {
      "text/plain": [
       "sex\n",
       "female    46.198097\n",
       "male      26.154601\n",
       "Name: fare, dtype: float64"
      ]
     },
     "execution_count": 10,
     "metadata": {},
     "output_type": "execute_result"
    }
   ],
   "source": [
    "# FUN FACT \n",
    "df.groupby('sex')[\"fare\"].mean()"
   ]
  },
  {
   "cell_type": "markdown",
   "id": "469e1d02-b5e1-474b-bacc-87bf3faa69fc",
   "metadata": {},
   "source": [
    "Następnie zbadajmy feature: home.dst == MAR"
   ]
  },
  {
   "cell_type": "code",
   "execution_count": 18,
   "id": "80e42db9-2bc5-410b-9a17-74dc9e9b3aea",
   "metadata": {},
   "outputs": [
    {
     "name": "stdout",
     "output_type": "stream",
     "text": [
      "survived  home.destNull\n",
      "0         0                398\n",
      "          1                411\n",
      "1         0                347\n",
      "          1                153\n",
      "dtype: int64\n",
      "Nie dostrzegam, żadnej zależności pomiędzy survivied a home.dest. Więc można sklasyfikować tą kolumnę jako MAR, nie MCAR, ponieważ dane nie są rozłożenie porówno\n"
     ]
    }
   ],
   "source": [
    "df['home.destNull'] = np.where(df['home.dest'].isnull(), 1, 0)\n",
    "print(df.groupby(['survived','home.destNull']).size())\n",
    "print(\"Nie dostrzegam, żadnej zależności pomiędzy survivied a home.dest. Więc można sklasyfikować tą kolumnę jako MAR, nie MCAR, ponieważ dane nie są rozłożenie porówno\")"
   ]
  },
  {
   "cell_type": "code",
   "execution_count": null,
   "id": "b7f64422-f30b-4640-9384-9dcf5165975e",
   "metadata": {},
   "outputs": [],
   "source": []
  }
 ],
 "metadata": {
  "kernelspec": {
   "display_name": "Python 3 (ipykernel)",
   "language": "python",
   "name": "python3"
  },
  "language_info": {
   "codemirror_mode": {
    "name": "ipython",
    "version": 3
   },
   "file_extension": ".py",
   "mimetype": "text/x-python",
   "name": "python",
   "nbconvert_exporter": "python",
   "pygments_lexer": "ipython3",
   "version": "3.11.6"
  }
 },
 "nbformat": 4,
 "nbformat_minor": 5
}
